{
 "cells": [
  {
   "metadata": {
    "ExecuteTime": {
     "end_time": "2025-04-23T07:41:01.342141Z",
     "start_time": "2025-04-23T07:41:01.050210Z"
    }
   },
   "cell_type": "code",
   "source": [
    "import pandas as pd\n",
    "import numpy as np\n",
    "import matplotlib.pyplot as plt\n",
    "import seaborn as sns\n",
    "import plotly.express as px\n",
    "\n",
    "import warnings\n",
    "warnings.simplefilter(action='ignore')"
   ],
   "id": "30c1483931d0371a",
   "execution_count": 1,
   "outputs": []
  },
  {
   "metadata": {},
   "cell_type": "markdown",
   "source": [
    "# 📘 Dataset Overview\n",
    "\n",
    "With thousands of universities worldwide, choosing the right one can be overwhelming. Students often rely on global rankings to guide their decisions—but rankings alone don’t tell the full story. Factors like research strength, teaching quality, international diversity, and industry partnerships all play a role in shaping an institution’s true value.  \n",
    "This dataset, compiled by *Times Higher Education*, offers a detailed look into these metrics—making it a powerful tool for exploring what really defines the world’s top universities.\n"
   ],
   "id": "312195d6c51a8898"
  },
  {
   "metadata": {
    "ExecuteTime": {
     "end_time": "2025-04-23T07:41:04.763963Z",
     "start_time": "2025-04-23T07:41:04.715280Z"
    }
   },
   "cell_type": "code",
   "source": "df = pd.read_csv('World University Rankings.csv')",
   "id": "8cc9f2351f6f99d2",
   "execution_count": 2,
   "outputs": []
  },
  {
   "metadata": {
    "ExecuteTime": {
     "end_time": "2025-04-23T07:41:05.459666Z",
     "start_time": "2025-04-23T07:41:05.411146Z"
    }
   },
   "cell_type": "code",
   "source": "df.head(10)",
   "id": "e57a7ef8908d2dd3",
   "execution_count": 3,
   "outputs": []
  },
  {
   "metadata": {
    "ExecuteTime": {
     "end_time": "2025-04-23T07:41:07.081801Z",
     "start_time": "2025-04-23T07:41:07.055003Z"
    }
   },
   "cell_type": "code",
   "source": "df.tail()",
   "id": "322440de6bb89412",
   "execution_count": 4,
   "outputs": []
  },
  {
   "metadata": {
    "ExecuteTime": {
     "end_time": "2025-04-23T07:41:07.828076Z",
     "start_time": "2025-04-23T07:41:07.790243Z"
    }
   },
   "cell_type": "code",
   "source": "df.describe()",
   "id": "96a7b368008a482e",
   "execution_count": 5,
   "outputs": []
  },
  {
   "metadata": {
    "ExecuteTime": {
     "end_time": "2025-04-23T07:41:08.351381Z",
     "start_time": "2025-04-23T07:41:08.329663Z"
    }
   },
   "cell_type": "code",
   "source": "df.describe(include='O')",
   "id": "ce6596e90ca01cbc",
   "execution_count": 6,
   "outputs": []
  },
  {
   "metadata": {
    "ExecuteTime": {
     "end_time": "2025-04-23T07:41:08.956515Z",
     "start_time": "2025-04-23T07:41:08.932037Z"
    }
   },
   "cell_type": "code",
   "source": "df.info()",
   "id": "94f23ec01ef3c5d4",
   "execution_count": 7,
   "outputs": []
  },
  {
   "metadata": {
    "ExecuteTime": {
     "end_time": "2025-04-23T07:41:09.704235Z",
     "start_time": "2025-04-23T07:41:09.688726Z"
    }
   },
   "cell_type": "code",
   "source": "df.isna().sum()",
   "id": "45517e9fb93906f7",
   "execution_count": 8,
   "outputs": []
  },
  {
   "metadata": {
    "ExecuteTime": {
     "end_time": "2025-04-23T07:41:10.368231Z",
     "start_time": "2025-04-23T07:41:10.339901Z"
    }
   },
   "cell_type": "code",
   "source": "df.duplicated().sum()",
   "id": "fe8286666aea1347",
   "execution_count": 9,
   "outputs": []
  },
  {
   "metadata": {
    "ExecuteTime": {
     "end_time": "2025-04-23T07:41:11.405870Z",
     "start_time": "2025-04-23T07:41:11.387869Z"
    }
   },
   "cell_type": "code",
   "source": "df.nunique()",
   "id": "1c032faea1ed5aa7",
   "execution_count": 10,
   "outputs": []
  },
  {
   "metadata": {
    "ExecuteTime": {
     "end_time": "2025-04-23T07:41:11.586929Z",
     "start_time": "2025-04-23T07:41:11.562474Z"
    }
   },
   "cell_type": "code",
   "source": "df[df['Year']==2025].sort_values(by='Rank', ascending=True)",
   "id": "e34ec463543338ff",
   "execution_count": 11,
   "outputs": []
  },
  {
   "metadata": {
    "ExecuteTime": {
     "end_time": "2025-04-23T07:41:12.072922Z",
     "start_time": "2025-04-23T07:41:12.060071Z"
    }
   },
   "cell_type": "code",
   "source": "df['Name'].value_counts()",
   "id": "b3e30f54286264b4",
   "execution_count": 12,
   "outputs": []
  },
  {
   "metadata": {},
   "cell_type": "markdown",
   "source": "# Cleaning Data",
   "id": "bba1195085ce1e5b"
  },
  {
   "metadata": {},
   "cell_type": "markdown",
   "source": "## International Students Missing Values",
   "id": "fe29f5763d74e05f"
  },
  {
   "metadata": {
    "ExecuteTime": {
     "end_time": "2025-04-23T07:41:12.204406Z",
     "start_time": "2025-04-23T07:41:12.196738Z"
    }
   },
   "cell_type": "code",
   "source": "df['International Students'].value_counts()",
   "id": "a9f8a3b16ba094eb",
   "execution_count": 13,
   "outputs": []
  },
  {
   "metadata": {
    "ExecuteTime": {
     "end_time": "2025-04-23T07:41:12.741666Z",
     "start_time": "2025-04-23T07:41:12.730526Z"
    }
   },
   "cell_type": "code",
   "source": [
    "x = list(set(df[df['International Students']=='%']['Name']))\n",
    "x"
   ],
   "id": "e0e4cfc5e519f8f3",
   "execution_count": 14,
   "outputs": []
  },
  {
   "metadata": {
    "ExecuteTime": {
     "end_time": "2025-04-23T07:41:13.235360Z",
     "start_time": "2025-04-23T07:41:13.198051Z"
    }
   },
   "cell_type": "code",
   "source": "df[df['Name'].isin(x)]",
   "id": "d846909ffcf489da",
   "execution_count": 15,
   "outputs": []
  },
  {
   "metadata": {
    "ExecuteTime": {
     "end_time": "2025-04-23T07:41:13.477777Z",
     "start_time": "2025-04-23T07:41:13.344186Z"
    }
   },
   "cell_type": "code",
   "source": [
    "# Get valid (non-% values) for each university\n",
    "valid_intl = df[df['International Students'] != '%'].groupby('Name')['International Students'].first()\n",
    "\n",
    "df['International Students'] = df.apply(\n",
    "    lambda row: valid_intl[row['Name']] if row['International Students'] == '%' and row['Name'] in valid_intl else row['International Students'],\n",
    "    axis=1\n",
    ")\n"
   ],
   "id": "a710580f503bd13f",
   "execution_count": 16,
   "outputs": []
  },
  {
   "metadata": {
    "ExecuteTime": {
     "end_time": "2025-04-23T07:41:13.513212Z",
     "start_time": "2025-04-23T07:41:13.501416Z"
    }
   },
   "cell_type": "code",
   "source": "df['International Students'] = df['International Students'].str.replace('%','').str.replace(' ','').astype(int) \n",
   "id": "869818445a914ca6",
   "execution_count": 17,
   "outputs": []
  },
  {
   "metadata": {},
   "cell_type": "markdown",
   "source": "## Female to Male Ratio Nulls and Format ",
   "id": "f7f099a7db0b2c2"
  },
  {
   "metadata": {
    "ExecuteTime": {
     "end_time": "2025-04-23T07:41:13.591863Z",
     "start_time": "2025-04-23T07:41:13.582865Z"
    }
   },
   "cell_type": "code",
   "source": "df[df['Female to Male Ratio'].isnull()]['Name'].value_counts()",
   "id": "392b4ef8b6f01142",
   "execution_count": 18,
   "outputs": []
  },
  {
   "metadata": {
    "ExecuteTime": {
     "end_time": "2025-04-23T07:41:13.761225Z",
     "start_time": "2025-04-23T07:41:13.753106Z"
    }
   },
   "cell_type": "code",
   "source": "df['Female to Male Ratio'].value_counts()",
   "id": "73d6165fed605a51",
   "execution_count": 19,
   "outputs": []
  },
  {
   "metadata": {
    "ExecuteTime": {
     "end_time": "2025-04-23T07:41:14.380725Z",
     "start_time": "2025-04-23T07:41:14.371591Z"
    }
   },
   "cell_type": "code",
   "source": "df[df['Female to Male Ratio']=='1.011805556']['Name'].value_counts()",
   "id": "84a278010ce4f967",
   "execution_count": 20,
   "outputs": []
  },
  {
   "metadata": {
    "ExecuteTime": {
     "end_time": "2025-04-23T07:41:14.946838Z",
     "start_time": "2025-04-23T07:41:14.928192Z"
    }
   },
   "cell_type": "code",
   "source": "df[df['Name']=='Missouri University of Science and Technology']",
   "id": "a9c18b875a899da",
   "execution_count": 21,
   "outputs": []
  },
  {
   "metadata": {
    "ExecuteTime": {
     "end_time": "2025-04-23T07:41:16.957207Z",
     "start_time": "2025-04-23T07:41:16.923513Z"
    }
   },
   "cell_type": "code",
   "source": [
    "df['Female'] = df['Female to Male Ratio'].apply(\n",
    "    lambda x: x.split(':')[0].strip() if isinstance(x, str) and ':' in x else x\n",
    ").astype('float')\n",
    "\n",
    "df['Female'] = df['Female'].apply(lambda x: x*100 if x <= 1 else x)\n",
    "\n",
    "df['Female'].value_counts()"
   ],
   "id": "45bdaa77fe855d4",
   "execution_count": 22,
   "outputs": []
  },
  {
   "metadata": {
    "ExecuteTime": {
     "end_time": "2025-04-23T07:41:17.083798Z",
     "start_time": "2025-04-23T07:41:17.065086Z"
    }
   },
   "cell_type": "code",
   "source": [
    "mask = df['Female'] < 2\n",
    "\n",
    "# Calculate the mean for each University, excluding the unwanted value\n",
    "grouped_mean = df[~mask].groupby('Name')['Female'].mean()\n",
    "df.loc[mask, 'Female'] = df.loc[mask, 'Name'].map(grouped_mean)"
   ],
   "id": "812f831ef2ed0c85",
   "execution_count": 23,
   "outputs": []
  },
  {
   "metadata": {
    "ExecuteTime": {
     "end_time": "2025-04-23T07:41:17.175019Z",
     "start_time": "2025-04-23T07:41:17.163579Z"
    }
   },
   "cell_type": "code",
   "source": "df['Female'].describe()",
   "id": "c4cdd72a9b8b662",
   "execution_count": 24,
   "outputs": []
  },
  {
   "metadata": {
    "ExecuteTime": {
     "end_time": "2025-04-23T07:41:17.347145Z",
     "start_time": "2025-04-23T07:41:17.334954Z"
    }
   },
   "cell_type": "code",
   "source": "df[df['Female'].isnull()]['Name'].value_counts()",
   "id": "61187060ed8444e1",
   "execution_count": 25,
   "outputs": []
  },
  {
   "metadata": {},
   "cell_type": "markdown",
   "source": "### Filling nulls by average of university then country",
   "id": "edb6b0dd8dd4bcf8"
  },
  {
   "metadata": {
    "ExecuteTime": {
     "end_time": "2025-04-23T07:41:17.929149Z",
     "start_time": "2025-04-23T07:41:17.909665Z"
    }
   },
   "cell_type": "code",
   "source": [
    "female_by_name = df.groupby('Name')['Female'].mean()\n",
    "female_by_country = df.groupby('Country')['Female'].mean()\n",
    "\n",
    "mask = df['Female'].isna()\n",
    "\n",
    "df.loc[mask, 'Female'] = df.loc[mask, 'Name'].map(female_by_name)\n",
    "\n",
    "# Step 4: Update mask (some values still NaN)\n",
    "mask = df['Female'].isna()\n",
    "\n",
    "df.loc[mask, 'Female'] = df.loc[mask, 'Country'].map(female_by_country)\n",
    "df['Female'].describe()"
   ],
   "id": "23418ddc7c6c9a6d",
   "execution_count": 26,
   "outputs": []
  },
  {
   "metadata": {
    "ExecuteTime": {
     "end_time": "2025-04-23T07:41:19.885236Z",
     "start_time": "2025-04-23T07:41:19.873075Z"
    }
   },
   "cell_type": "code",
   "source": "df['Female'].value_counts()",
   "id": "ec0c7e778e517fa4",
   "execution_count": 27,
   "outputs": []
  },
  {
   "metadata": {
    "ExecuteTime": {
     "end_time": "2025-04-23T07:41:20.601634Z",
     "start_time": "2025-04-23T07:41:20.590898Z"
    }
   },
   "cell_type": "code",
   "source": "df.isnull().sum()",
   "id": "f35c4ae9280181ad",
   "execution_count": 28,
   "outputs": []
  },
  {
   "metadata": {},
   "cell_type": "markdown",
   "source": "### Splitting ratio into two columns",
   "id": "2dda3665cdc7bed"
  },
  {
   "metadata": {
    "ExecuteTime": {
     "end_time": "2025-04-23T07:41:20.814374Z",
     "start_time": "2025-04-23T07:41:20.809024Z"
    }
   },
   "cell_type": "code",
   "source": [
    "df['Female Ratio'] = df['Female'].round(0).astype(int)\n",
    "df['Male Ratio'] = 100 - df['Female Ratio']"
   ],
   "id": "db98c39eb8da8785",
   "execution_count": 29,
   "outputs": []
  },
  {
   "metadata": {
    "ExecuteTime": {
     "end_time": "2025-04-23T07:41:20.897182Z",
     "start_time": "2025-04-23T07:41:20.889170Z"
    }
   },
   "cell_type": "code",
   "source": "df['Female Ratio'].value_counts()",
   "id": "8c2460fc6572050",
   "execution_count": 30,
   "outputs": []
  },
  {
   "metadata": {
    "ExecuteTime": {
     "end_time": "2025-04-23T07:41:21.020745Z",
     "start_time": "2025-04-23T07:41:21.011273Z"
    }
   },
   "cell_type": "code",
   "source": "df['Male Ratio'].value_counts()",
   "id": "fe5d24862182e962",
   "execution_count": 31,
   "outputs": []
  },
  {
   "metadata": {
    "ExecuteTime": {
     "end_time": "2025-04-23T07:41:21.084643Z",
     "start_time": "2025-04-23T07:41:21.074909Z"
    }
   },
   "cell_type": "code",
   "source": "df = df.drop(columns=['Female to Male Ratio','Female'],axis=1)",
   "id": "c3f2d9ba5424535e",
   "execution_count": 32,
   "outputs": []
  },
  {
   "metadata": {
    "ExecuteTime": {
     "end_time": "2025-04-23T07:41:21.220448Z",
     "start_time": "2025-04-23T07:41:21.182359Z"
    }
   },
   "cell_type": "code",
   "source": "df.describe()\n",
   "id": "dcbbf4fbbce8187e",
   "execution_count": 33,
   "outputs": []
  },
  {
   "metadata": {},
   "cell_type": "markdown",
   "source": "## Detecting Outliers",
   "id": "f4030ef633312be2"
  },
  {
   "metadata": {
    "ExecuteTime": {
     "end_time": "2025-04-23T07:41:21.576634Z",
     "start_time": "2025-04-23T07:41:21.265932Z"
    }
   },
   "cell_type": "code",
   "source": [
    "outlier_columns = ['Student Population','Students to Staff Ratio']\n",
    "\n",
    "for column in outlier_columns:\n",
    "    sns.boxplot(x=df[column])\n",
    "    plt.show()"
   ],
   "id": "192cf3a0c112a53",
   "execution_count": 34,
   "outputs": []
  },
  {
   "metadata": {
    "ExecuteTime": {
     "end_time": "2025-04-23T07:41:21.600468Z",
     "start_time": "2025-04-23T07:41:21.578647Z"
    }
   },
   "cell_type": "code",
   "source": [
    "top_population = df.sort_values(by='Student Population', ascending=False).head(15)\n",
    "top_population"
   ],
   "id": "99cb29e13396feba",
   "execution_count": 35,
   "outputs": []
  },
  {
   "metadata": {},
   "cell_type": "markdown",
   "source": "### Storing Extreme outliers for Analysis & Dropping from DF",
   "id": "b7a35c54e01a7296"
  },
  {
   "metadata": {
    "ExecuteTime": {
     "end_time": "2025-04-23T07:41:21.624443Z",
     "start_time": "2025-04-23T07:41:21.600468Z"
    }
   },
   "cell_type": "code",
   "source": [
    "big_universities = ['Anadolu University','Tribhuvan University','Payame Noor University']\n",
    "special_population = df[df['Name'].isin(big_universities)]\n",
    "special_population"
   ],
   "id": "cd4007d95c76697e",
   "execution_count": 36,
   "outputs": []
  },
  {
   "metadata": {
    "ExecuteTime": {
     "end_time": "2025-04-23T07:41:21.665218Z",
     "start_time": "2025-04-23T07:41:21.624443Z"
    }
   },
   "cell_type": "code",
   "source": [
    "df = df[~df['Name'].isin(big_universities)]\n",
    "df.describe()"
   ],
   "id": "743331a06044efcc",
   "execution_count": 37,
   "outputs": []
  },
  {
   "metadata": {},
   "cell_type": "markdown",
   "source": "### Scaling for normalization",
   "id": "5895d67d155bed4"
  },
  {
   "metadata": {
    "ExecuteTime": {
     "end_time": "2025-04-23T07:41:23.244562Z",
     "start_time": "2025-04-23T07:41:22.651998Z"
    }
   },
   "cell_type": "code",
   "source": [
    "from sklearn.preprocessing import RobustScaler\n",
    "scaler = RobustScaler()\n",
    "\n",
    "scaled = scaler.fit_transform(df[outlier_columns])\n",
    "\n",
    "scaled_shifted = scaled - scaled.min(axis=0)\n",
    "\n",
    "df[outlier_columns] = scaled_shifted\n",
    "\n",
    "df.describe()"
   ],
   "id": "f01d977138f62e0",
   "execution_count": 38,
   "outputs": []
  },
  {
   "metadata": {
    "ExecuteTime": {
     "end_time": "2025-04-23T07:41:23.254809Z",
     "start_time": "2025-04-23T07:41:23.244562Z"
    }
   },
   "cell_type": "code",
   "source": "df['Year'].value_counts()",
   "id": "4718c8100265ec79",
   "execution_count": 39,
   "outputs": []
  },
  {
   "metadata": {},
   "cell_type": "markdown",
   "source": "# Scraping iso_alpha code for countries",
   "id": "1157ce8a9fbb2b29"
  },
  {
   "metadata": {
    "ExecuteTime": {
     "end_time": "2025-04-23T07:41:23.311305Z",
     "start_time": "2025-04-23T07:41:23.295497Z"
    }
   },
   "cell_type": "code",
   "source": [
    "df_iso = pd.read_csv('countries_iso.csv')\n",
    "\n",
    "df_iso.drop(columns=['Countries_iso_alpha_url'], inplace=True)\n",
    "df_iso.rename(columns={'Countries_name': 'Country', 'Countries_iso_alpha': 'iso_alpha'}, inplace=True)\n",
    "df_iso.head(10)\n"
   ],
   "id": "6aa70ccf49080c6a",
   "execution_count": 40,
   "outputs": []
  },
  {
   "metadata": {},
   "cell_type": "markdown",
   "source": "### Fixing Errors",
   "id": "e798e389ac58f82a"
  },
  {
   "metadata": {
    "ExecuteTime": {
     "end_time": "2025-04-23T07:41:23.516185Z",
     "start_time": "2025-04-23T07:41:23.495587Z"
    }
   },
   "cell_type": "code",
   "source": [
    "corrections = {\n",
    "    'United States of America (the)': 'United States',\n",
    "    'United Kingdom of Great Britain and Northern Ireland (the)': 'United Kingdom',\n",
    "    'Netherlands (Kingdom of the)': 'Netherlands',\n",
    "    'Korea (the Republic of)': 'South Korea',\n",
    "    'Russian Federation (the)': 'Russian Federation',\n",
    "    'Taiwan (Province of China)': 'Taiwan',\n",
    "    'Türkiye': 'Turkey',\n",
    "    'Czechia': 'Czech Republic',\n",
    "    'Iran (Islamic Republic of)': 'Iran',\n",
    "    'United Arab Emirates (the)': 'United Arab Emirates',\n",
    "    'Philippines (the)': 'Philippines',\n",
    "    'Venezuela (Bolivarian Republic of)': 'Venezuela',\n",
    "    'Tanzania, the United Republic of': 'Tanzania',\n",
    "    'Viet Nam': 'Vietnam',\n",
    "    'Palestine, State of': 'Palestine',\n",
    "    'Syrian Arab Republic (the)': 'Syria'\n",
    "}\n",
    "\n",
    "\n",
    "# Apply the corrections\n",
    "df_iso['Country'] = df_iso['Country'].replace(corrections)"
   ],
   "id": "2bba8df39866fe81",
   "execution_count": 41,
   "outputs": []
  },
  {
   "metadata": {
    "ExecuteTime": {
     "end_time": "2025-04-23T07:41:24.215903Z",
     "start_time": "2025-04-23T07:41:24.188628Z"
    }
   },
   "cell_type": "code",
   "source": [
    "df_iso = df_iso.drop_duplicates(subset='Country')\n",
    "\n",
    "\n",
    "df_universities = df.merge(\n",
    "    df_iso[['Country','iso_alpha']],\n",
    "    on='Country',\n",
    "    how='left'\n",
    ")\n",
    "\n",
    "\n",
    "df_universities.describe(include='O')\n"
   ],
   "id": "f8562640ae88e416",
   "execution_count": 42,
   "outputs": []
  },
  {
   "metadata": {
    "ExecuteTime": {
     "end_time": "2025-04-23T07:41:24.354292Z",
     "start_time": "2025-04-23T07:41:24.343457Z"
    }
   },
   "cell_type": "code",
   "source": "df_universities.isna().sum()",
   "id": "ed28822009e37ce4",
   "execution_count": 43,
   "outputs": []
  },
  {
   "metadata": {
    "ExecuteTime": {
     "end_time": "2025-04-23T07:41:26.509949Z",
     "start_time": "2025-04-23T07:41:26.501560Z"
    }
   },
   "cell_type": "code",
   "source": "df_universities[df_universities['iso_alpha'].isnull()]['Country'].unique()",
   "id": "647ab6468618306a",
   "execution_count": 44,
   "outputs": []
  },
  {
   "metadata": {},
   "cell_type": "markdown",
   "source": "### Filling Nulls",
   "id": "f6b82a92e95f10ae"
  },
  {
   "metadata": {
    "ExecuteTime": {
     "end_time": "2025-04-23T07:41:31.821133Z",
     "start_time": "2025-04-23T07:41:31.805819Z"
    }
   },
   "cell_type": "code",
   "source": [
    "df_universities.loc[df_universities['Country'] == 'Northern Cyprus','iso_alpha'] = 'CYP'\n",
    "df_universities.loc[df_universities['Country'] == 'Kosovo','iso_alpha'] = 'XKX'\n",
    "df_universities.loc[df_universities['Country'] == 'Democratic Republic of the Congo','iso_alpha'] = 'DRC'\n",
    "\n"
   ],
   "id": "4e344fd4346495e1",
   "execution_count": 45,
   "outputs": []
  },
  {
   "metadata": {
    "ExecuteTime": {
     "end_time": "2025-04-23T07:41:33.522649Z",
     "start_time": "2025-04-23T07:41:33.503198Z"
    }
   },
   "cell_type": "code",
   "source": "df_universities.isna().sum()",
   "id": "8889300e574c42e7",
   "execution_count": 46,
   "outputs": []
  },
  {
   "metadata": {},
   "cell_type": "markdown",
   "source": "# Exploratory Data Analysis",
   "id": "68961b728669458a"
  },
  {
   "metadata": {
    "ExecuteTime": {
     "end_time": "2025-04-23T07:41:37.622658Z",
     "start_time": "2025-04-23T07:41:37.603572Z"
    }
   },
   "cell_type": "code",
   "source": [
    "df = df_universities\n",
    "df.describe(include='O')"
   ],
   "id": "5714ba1245a9a728",
   "execution_count": 47,
   "outputs": []
  },
  {
   "metadata": {
    "ExecuteTime": {
     "end_time": "2025-04-23T07:41:39.494417Z",
     "start_time": "2025-04-23T07:41:39.441143Z"
    }
   },
   "cell_type": "code",
   "source": "df.describe()",
   "id": "ac1a5c128ccfa8e1",
   "execution_count": 48,
   "outputs": []
  },
  {
   "metadata": {
    "ExecuteTime": {
     "end_time": "2025-04-23T07:41:40.089200Z",
     "start_time": "2025-04-23T07:41:40.075282Z"
    }
   },
   "cell_type": "code",
   "source": [
    "numeric_cols = list(df.select_dtypes(include='number').columns)\n",
    "numeric_cols = [col for col in numeric_cols if col != 'Overall Score' and col != 'Year']\n",
    "numeric_cols.append('Overall Score')\n",
    "numeric_cols\n"
   ],
   "id": "3a6f464d7c9c93f0",
   "execution_count": 49,
   "outputs": []
  },
  {
   "metadata": {
    "ExecuteTime": {
     "end_time": "2025-04-23T07:41:41.666075Z",
     "start_time": "2025-04-23T07:41:41.649484Z"
    }
   },
   "cell_type": "code",
   "source": [
    "numeric_df = df[numeric_cols]\n",
    "numeric_df['Rank']= -numeric_df['Rank'] # for sensible relations\n",
    "numeric_df.head()"
   ],
   "id": "e14d56b9395165d0",
   "execution_count": 50,
   "outputs": []
  },
  {
   "metadata": {},
   "cell_type": "markdown",
   "source": "## Correlation Matrix",
   "id": "ac1ea01da5ea36e8"
  },
  {
   "metadata": {
    "ExecuteTime": {
     "end_time": "2025-04-23T07:41:43.066274Z",
     "start_time": "2025-04-23T07:41:42.508318Z"
    }
   },
   "cell_type": "code",
   "source": [
    "# Compute the correlation matrix\n",
    "corr_matrix = numeric_df.corr()\n",
    "\n",
    "# Set up the matplotlib figure\n",
    "plt.figure(figsize=(12, 8))\n",
    "sns.heatmap(\n",
    "    corr_matrix,\n",
    "    annot=True,\n",
    "    fmt=\".2f\",\n",
    "    cmap=\"coolwarm\",\n",
    "    square=True,\n",
    "    linewidths=0.5,\n",
    "    cbar_kws={\"shrink\": 0.8}\n",
    ")\n",
    "\n",
    "plt.title(\"Correlation Heatmap of Numeric Features\")\n",
    "plt.tight_layout()\n",
    "plt.show()\n"
   ],
   "id": "96b2b556a2aa6ead",
   "execution_count": 51,
   "outputs": []
  },
  {
   "metadata": {},
   "cell_type": "markdown",
   "source": "## Score vs Rank",
   "id": "4e9ee4678bbc4e77"
  },
  {
   "metadata": {
    "ExecuteTime": {
     "end_time": "2025-04-23T07:41:43.230331Z",
     "start_time": "2025-04-23T07:41:43.066274Z"
    }
   },
   "cell_type": "code",
   "source": [
    "plt.figure(figsize=(12, 8))\n",
    "plt.scatter(numeric_df['Overall Score'],numeric_df['Rank'])\n",
    "plt.title(\"Relation between Overall Score and Rank\")\n",
    "plt.show()"
   ],
   "id": "882f3db8c7229051",
   "execution_count": 52,
   "outputs": []
  },
  {
   "metadata": {},
   "cell_type": "markdown",
   "source": "## International Diversity",
   "id": "83e6c86bdae742f3"
  },
  {
   "metadata": {
    "ExecuteTime": {
     "end_time": "2025-04-23T07:41:43.503082Z",
     "start_time": "2025-04-23T07:41:43.232083Z"
    }
   },
   "cell_type": "code",
   "source": [
    "plt.figure(figsize=(12, 8))\n",
    "sns.scatterplot(df,x=\"International Outlook\",y=\"International Students\")"
   ],
   "id": "3fb49fa88b6d719b",
   "execution_count": 53,
   "outputs": []
  },
  {
   "metadata": {},
   "cell_type": "markdown",
   "source": "## Top Universities For Each Country",
   "id": "5b31b58b45b3727f"
  },
  {
   "metadata": {
    "ExecuteTime": {
     "end_time": "2025-04-23T07:41:43.642052Z",
     "start_time": "2025-04-23T07:41:43.631914Z"
    }
   },
   "cell_type": "code",
   "source": "df[df['Rank']<11]['Name'].value_counts()",
   "id": "b421d5222a708a02",
   "execution_count": 54,
   "outputs": []
  },
  {
   "metadata": {
    "ExecuteTime": {
     "end_time": "2025-04-23T07:41:45.914471Z",
     "start_time": "2025-04-23T07:41:44.079244Z"
    }
   },
   "cell_type": "code",
   "source": [
    "top_universities = list(df[df['Rank']<11]['Name'].unique())\n",
    "top_df = df[df['Name'].isin(top_universities)]\n",
    "top_df['Rank'] = - top_df['Rank']\n",
    "\n",
    "fig3 = px.scatter(top_df,\n",
    "                 x=\"Overall Score\", y=\"Rank\",\n",
    "                 animation_frame=\"Year\",\n",
    "                 animation_group=\"Name\",\n",
    "                 size=\"Male Ratio\",\n",
    "                 color=\"Name\",\n",
    "                 hover_name=\"Name\",\n",
    "                 title=\"Top Universities Scores over Years\")\n",
    "fig3.show()"
   ],
   "id": "36bbb751bdb1c4d0",
   "execution_count": 55,
   "outputs": []
  },
  {
   "metadata": {},
   "cell_type": "code",
   "source": "df.columns",
   "id": "c7526686458c7350",
   "execution_count": 56,
   "outputs": []
  },
  {
   "metadata": {},
   "cell_type": "code",
   "source": [
    "pivot_gender_ratio = df[df['Year'].isin([2024,2025])].pivot_table(\n",
    "    values='Female Ratio',\n",
    "    index='Country',\n",
    "    columns='Year',\n",
    "    aggfunc='mean'\n",
    ")\n",
    "pivot_gender_ratio"
   ],
   "id": "95a010dfaf7ac344",
   "execution_count": 57,
   "outputs": []
  },
  {
   "metadata": {},
   "cell_type": "code",
   "source": [
    "# Sort by Country and Overall Score (descending)\n",
    "df_sorted = df.sort_values(['Country', 'Overall Score'], ascending=[True, False])\n",
    "\n",
    "# Group by Country and take top 100 for each\n",
    "top100_per_country = df_sorted.groupby('Country').head(100).reset_index(drop=True)\n",
    "\n",
    "top100_per_country =top100_per_country.sort_values(by='Overall Score', ascending=False)\n",
    "top100_per_country.describe(include='O')"
   ],
   "id": "200fdcd07f2837ee",
   "execution_count": 58,
   "outputs": []
  },
  {
   "metadata": {},
   "cell_type": "code",
   "source": [
    "pivot_research = top100_per_country.pivot_table(\n",
    "    values=['Research Quality', 'Research Environment'],\n",
    "    index='Country',\n",
    "    aggfunc='mean'\n",
    ").sort_values(by='Research Quality', ascending=False)\n",
    "pivot_research"
   ],
   "id": "456c5bb7c7f80bf5",
   "execution_count": 59,
   "outputs": []
  },
  {
   "metadata": {},
   "cell_type": "code",
   "source": [
    "pivot_international = top100_per_country.pivot_table(\n",
    "    values=['International Outlook', 'International Students'],\n",
    "    index='Country',\n",
    "    aggfunc='mean'\n",
    ").sort_values(by='International Students', ascending=False)\n",
    "pivot_international"
   ],
   "id": "ffe8540a130c811",
   "execution_count": 60,
   "outputs": []
  },
  {
   "metadata": {},
   "cell_type": "code",
   "source": [
    "pivot_score_country = top100_per_country.pivot_table(\n",
    "    values='Overall Score',\n",
    "    index='Country',\n",
    "    aggfunc='mean'\n",
    ").sort_values(by='Overall Score', ascending=False)\n",
    "pivot_score_country"
   ],
   "id": "2aeb90f981b7a55d",
   "execution_count": 61,
   "outputs": []
  },
  {
   "metadata": {
    "ExecuteTime": {
     "end_time": "2025-04-23T07:41:46.352008Z",
     "start_time": "2025-04-23T07:41:46.033911Z"
    }
   },
   "cell_type": "code",
   "source": [
    "fig = px.choropleth(top100_per_country, locations=\"iso_alpha\",\n",
    "                    color=\"Overall Score\",\n",
    "                    hover_name=\"Country\",\n",
    "                    title=\"Overall Score for each country\")\n",
    "\n",
    "# Show the map\n",
    "fig.show()"
   ],
   "id": "480434316b7b938c",
   "execution_count": 62,
   "outputs": []
  },
  {
   "metadata": {
    "ExecuteTime": {
     "end_time": "2025-04-23T07:41:46.597415Z",
     "start_time": "2025-04-23T07:41:46.354014Z"
    }
   },
   "cell_type": "code",
   "source": [
    "top100_per_country = top100_per_country.sort_values('Year')\n",
    "\n",
    "fig2 = px.scatter(top100_per_country,\n",
    "                 x=\"Overall Score\", y=\"International Students\",\n",
    "                 animation_frame=\"Year\",\n",
    "                 animation_group=\"Country\",\n",
    "                 color=\"Female Ratio\",\n",
    "                 hover_name=\"Country\",\n",
    "                 title=\"Countries Average Scores over Years\")\n",
    "fig2.show()"
   ],
   "id": "669ec760580c14f3",
   "execution_count": 63,
   "outputs": []
  },
  {
   "metadata": {},
   "cell_type": "markdown",
   "source": "# Transformation to Excel File",
   "id": "2183d581d8345dfe"
  },
  {
   "metadata": {
    "ExecuteTime": {
     "end_time": "2025-04-23T07:41:50.474366Z",
     "start_time": "2025-04-23T07:41:50.426926Z"
    }
   },
   "cell_type": "code",
   "source": [
    "df_main = pd.read_csv('World University Rankings.csv')\n",
    "df_main = df_main[~df_main['Name'].isin(big_universities)]\n",
    "\n",
    "df['Student Population'] = df_main['Student Population']\n",
    "df['Students to Staff Ratio'] = df_main['Students to Staff Ratio']\n",
    "# \n",
    "# with pd.ExcelWriter(\"world_universities_ranking.xlsx\") as writer:\n",
    "#     df.to_excel(writer, sheet_name='Cleaned Data', index=False)\n",
    "#     pivot_score_country.to_excel(writer, sheet_name='Score per Country')\n",
    "#     pivot_gender_ratio.to_excel(writer, sheet_name='Female Ratio by Year')\n",
    "#     pivot_research.to_excel(writer, sheet_name='Research Environment & Quality')\n",
    "#     pivot_international.to_excel(writer, sheet_name='International Outlook & Students')\n",
    "#     special_population.to_excel(writer, sheet_name='Highest Population Universities')\n"
   ],
   "id": "890cc78ad1b69c3b",
   "execution_count": 64,
   "outputs": []
  },
  {
   "metadata": {
    "ExecuteTime": {
     "end_time": "2025-04-23T07:41:56.160897Z",
     "start_time": "2025-04-23T07:41:53.250165Z"
    }
   },
   "cell_type": "code",
   "source": [
    "df_sorted = df.sort_values(['Country', 'Overall Score'], ascending=[True, False])\n",
    "\n",
    "# Group by Country and take top 100 for each\n",
    "top100_per_country = df_sorted.groupby('Country').head(100).reset_index(drop=True)\n",
    "\n",
    "top100_per_country =top100_per_country.sort_values(by='Overall Score', ascending=False)\n",
    "\n",
    "\n",
    "top_per_year = df.groupby('Year').head(300).reset_index(drop=True)\n",
    "\n",
    "\n",
    "with pd.ExcelWriter(\"Top Universities per country.xlsx\") as writer:\n",
    "    top100_per_country.to_excel(writer,sheet_name='top per country', index=False)\n",
    "    top_per_year.to_excel(writer,sheet_name='top per year', index=False)"
   ],
   "id": "6d3386d462b02ca",
   "execution_count": 65,
   "outputs": []
  },
  {
   "metadata": {},
   "cell_type": "code",
   "execution_count": null,
   "source": "",
   "id": "747dfb6eb1eea52a",
   "outputs": []
  }
 ],
 "metadata": {
  "kernelspec": {
   "display_name": "Python 3",
   "language": "python",
   "name": "python3"
  },
  "language_info": {
   "codemirror_mode": {
    "name": "ipython",
    "version": 2
   },
   "file_extension": ".py",
   "mimetype": "text/x-python",
   "name": "python",
   "nbconvert_exporter": "python",
   "pygments_lexer": "ipython2",
   "version": "2.7.6"
  }
 },
 "nbformat": 4,
 "nbformat_minor": 5
}
